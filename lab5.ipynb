{
 "cells": [
  {
   "cell_type": "markdown",
   "metadata": {},
   "source": [
    "# Lab5\n",
    "\n",
    "Ознайомитися з методами регресійного аналізу, навчитися працювати з реальними і штучно створеними наборами даних для класифікації, застосовувати моделі для класифікації даних та аналізувати результати."
   ]
  },
  {
   "cell_type": "markdown",
   "metadata": {},
   "source": [
    "1. Створити набір даних за допомогою DatasetGenetator."
   ]
  },
  {
   "cell_type": "code",
   "execution_count": 25,
   "metadata": {},
   "outputs": [],
   "source": [
    "import numpy as np\n",
    "import pandas as pd\n",
    "import matplotlib.pyplot as plt\n",
    "from sklearn.linear_model import LinearRegression\n",
    "from sklearn.metrics import mean_squared_error, mean_absolute_error, r2_score\n",
    "\n",
    "noise = 6\n",
    "\n",
    "data_array = {\n",
    "    'X': np.arange(0, 1000, 15),\n",
    "    'y': np.arange(0, 1000, 15)\n",
    "}\n",
    "\n",
    "gen_data = pd.DataFrame(data_array)\n",
    "\n",
    "gen_data['X'] += np.random.normal(0, noise, size=gen_data['X'].shape)\n",
    "gen_data['y'] += np.random.normal(0, noise, size=gen_data['y'].shape)\n",
    "\n",
    "X_gen = gen_data[['X']]\n",
    "y_gen = gen_data['y']"
   ]
  },
  {
   "cell_type": "markdown",
   "metadata": {},
   "source": [
    "2. Завантажити набір даних для регресії з сайту Kaggle. Кожен студент має обрати унікальний набір даних."
   ]
  },
  {
   "cell_type": "code",
   "execution_count": 15,
   "metadata": {},
   "outputs": [
    {
     "name": "stdout",
     "output_type": "stream",
     "text": [
      "Перші кілька рядків навчального набору:\n",
      "  class cap-shape cap-surface cap-color bruises odor gill-attachment  \\\n",
      "0     p         x           s         n       t    p               f   \n",
      "1     e         x           s         y       t    a               f   \n",
      "2     e         b           s         w       t    l               f   \n",
      "3     p         x           y         w       t    p               f   \n",
      "4     e         x           s         g       f    n               f   \n",
      "\n",
      "  gill-spacing gill-size gill-color  ... stalk-surface-below-ring  \\\n",
      "0            c         n          k  ...                        s   \n",
      "1            c         b          k  ...                        s   \n",
      "2            c         b          n  ...                        s   \n",
      "3            c         n          n  ...                        s   \n",
      "4            w         b          k  ...                        s   \n",
      "\n",
      "  stalk-color-above-ring stalk-color-below-ring veil-type veil-color  \\\n",
      "0                      w                      w         p          w   \n",
      "1                      w                      w         p          w   \n",
      "2                      w                      w         p          w   \n",
      "3                      w                      w         p          w   \n",
      "4                      w                      w         p          w   \n",
      "\n",
      "  ring-number ring-type spore-print-color population habitat  \n",
      "0           o         p                 k          s       u  \n",
      "1           o         p                 n          n       g  \n",
      "2           o         p                 n          n       m  \n",
      "3           o         p                 k          s       u  \n",
      "4           o         e                 n          a       g  \n",
      "\n",
      "[5 rows x 23 columns]\n",
      "Форма навчального набору ознак: (5686, 22)\n",
      "Форма тестового набору ознак: (2438, 22)\n",
      "Форма навчального набору класів: (5686,)\n",
      "Форма тестового набору класів: (2438,)\n"
     ]
    }
   ],
   "source": [
    "import pandas as pd\n",
    "\n",
    "# Завантажуємо навчальні та тестові дані (припускаємо, що файл для навчання вже завантажено)\n",
    "file_path_train = 'mushrooms.csv'\n",
    "kaggle_data_train = pd.read_csv(file_path_train)\n",
    "\n",
    "# Видаляємо пропущені значення у навчальному наборі (якщо вони є)\n",
    "kaggle_data_train = kaggle_data_train.dropna()\n",
    "\n",
    "# Виведемо перші кілька рядків навчального набору для перегляду\n",
    "print(\"Перші кілька рядків навчального набору:\")\n",
    "print(kaggle_data_train.head())\n",
    "\n",
    "# Вибір ознак (X) та цільового стовпця (y)\n",
    "# У даних \"class\" — це наш цільовий стовпець\n",
    "X_kaggle_train = kaggle_data_train.drop(columns=['class'])  # Усі стовпці крім 'class'\n",
    "y_kaggle_train = kaggle_data_train['class']                 # Цільовий стовпець 'class'\n",
    "\n",
    "# Для прикладу створимо тестові дані, які можуть бути іншим файлом (або виділеною частиною цього ж набору)\n",
    "# Вибираємо 30% даних для тестування\n",
    "from sklearn.model_selection import train_test_split\n",
    "X_kaggle_train, X_kaggle_test, y_kaggle_train, y_kaggle_test = train_test_split(X_kaggle_train, y_kaggle_train, test_size=0.3, random_state=42)\n",
    "\n",
    "# Перевіримо розмірності для навчальних і тестових даних\n",
    "print(f\"Форма навчального набору ознак: {X_kaggle_train.shape}\")\n",
    "print(f\"Форма тестового набору ознак: {X_kaggle_test.shape}\")\n",
    "print(f\"Форма навчального набору класів: {y_kaggle_train.shape}\")\n",
    "print(f\"Форма тестового набору класів: {y_kaggle_test.shape}\")"
   ]
  },
  {
   "cell_type": "markdown",
   "metadata": {},
   "source": [
    "3. Провести моделювання для отриманих наборів даних з використанням регресійного аналізу."
   ]
  },
  {
   "cell_type": "markdown",
   "metadata": {},
   "source": [
    "- для згенерованих даних"
   ]
  },
  {
   "cell_type": "code",
   "execution_count": 19,
   "metadata": {},
   "outputs": [
    {
     "name": "stdout",
     "output_type": "stream",
     "text": [
      "Середньоквадратична похибка (MSE): 65.57198646879219\n",
      "Середня абсолютна похибка (MAE): 6.5357930951322825\n",
      "Коефіцієнт детермінації (R^2): 0.9992231891421551\n"
     ]
    },
    {
     "data": {
      "image/png": "[encoded data removed]",
      "text/plain": [
       "<Figure size 640x480 with 1 Axes>"
      ]
     },
     "metadata": {},
     "output_type": "display_data"
    }
   ],
   "source": [
    "gen_data_model = LinearRegression()\n",
    "\n",
    "gen_data_model.fit(X_gen, y_gen)\n",
    "y_gen_pred = gen_data_model.predict(X_gen)\n",
    "\n",
    "mse = mean_squared_error(y_gen, y_gen_pred)\n",
    "mae = mean_absolute_error(y_gen, y_gen_pred)\n",
    "r2 = r2_score(y_gen, y_gen_pred)\n",
    "\n",
    "print(f\"Середньоквадратична похибка (MSE): {mse}\")\n",
    "print(f\"Середня абсолютна похибка (MAE): {mae}\")\n",
    "print(f\"Коефіцієнт детермінації (R^2): {r2}\")\n",
    "\n",
    "plt.scatter(X_gen, y_gen, color='blue', label='Фактичні дані')\n",
    "plt.plot(X_gen, y_gen_pred, color='red', linewidth=2, label='Лінія регресії')\n",
    "plt.xlabel('X')\n",
    "plt.ylabel('y')\n",
    "plt.title('Лінійна регресія')\n",
    "plt.legend()\n",
    "plt.show()"
   ]
  },
  {
   "cell_type": "markdown",
   "metadata": {},
   "source": [
    "-для даних з Kaggle"
   ]
  },
  {
   "cell_type": "code",
   "execution_count": 24,
   "metadata": {},
   "outputs": [
    {
     "name": "stdout",
     "output_type": "stream",
     "text": [
      "Точність моделі: 1.0000\n",
      "Точність (Precision): 1.0000\n",
      "Повнота (Recall): 1.0000\n",
      "F1-скор: 1.0000\n",
      "\n",
      "Звіт класифікації:\n",
      "               precision    recall  f1-score   support\n",
      "\n",
      "       False       1.00      1.00      1.00      1257\n",
      "        True       1.00      1.00      1.00      1181\n",
      "\n",
      "    accuracy                           1.00      2438\n",
      "   macro avg       1.00      1.00      1.00      2438\n",
      "weighted avg       1.00      1.00      1.00      2438\n",
      "\n"
     ]
    }
   ],
   "source": [
    "import pandas as pd\n",
    "from sklearn.model_selection import train_test_split\n",
    "from sklearn.tree import DecisionTreeClassifier\n",
    "from sklearn.metrics import accuracy_score, classification_report, precision_score, recall_score, f1_score\n",
    "\n",
    "# 1. Завантажуємо та обробляємо дані\n",
    "file_path = 'mushrooms.csv'\n",
    "df = pd.read_csv(file_path)\n",
    "\n",
    "# Видаляємо пропущені значення\n",
    "df = df.dropna()\n",
    "\n",
    "# Використовуємо One-Hot-Encoding для кодування категоріальних змінних\n",
    "df_encoded = pd.get_dummies(df)\n",
    "\n",
    "# 2. Розділяємо дані на ознаки (X) та цільовий стовпець (y)\n",
    "X = df_encoded.drop(columns=['class_p'])  # 'class_p' - один із варіантів класу (за допомогою get_dummies)\n",
    "y = df_encoded['class_p']  # Цільовий стовпець (клас, чи є гриб їстівним)\n",
    "\n",
    "# 3. Розподіляємо на навчальну і тестову вибірки\n",
    "X_train, X_test, y_train, y_test = train_test_split(X, y, test_size=0.3, random_state=42)\n",
    "\n",
    "# 4. Створюємо модель класифікації на основі дерева рішень\n",
    "model = DecisionTreeClassifier(random_state=42)\n",
    "model.fit(X_train, y_train)\n",
    "\n",
    "# 5. Передбачення на тестовій вибірці\n",
    "y_pred = model.predict(X_test)\n",
    "\n",
    "# 6. Оцінка моделі\n",
    "accuracy = accuracy_score(y_test, y_pred)\n",
    "precision = precision_score(y_test, y_pred, average='weighted')\n",
    "recall = recall_score(y_test, y_pred, average='weighted')\n",
    "f1 = f1_score(y_test, y_pred, average='weighted')\n",
    "\n",
    "# Виведення результатів\n",
    "print(f\"Точність моделі: {accuracy:.4f}\")\n",
    "print(f\"Точність (Precision): {precision:.4f}\")\n",
    "print(f\"Повнота (Recall): {recall:.4f}\")\n",
    "print(f\"F1-скор: {f1:.4f}\")\n",
    "\n",
    "# Додатково виведемо повний звіт по моделі\n",
    "print(\"\\nЗвіт класифікації:\\n\", classification_report(y_test, y_pred))\n"
   ]
  }
 ],
 "metadata": {
  "kernelspec": {
   "display_name": "Python 3",
   "language": "python",
   "name": "python3"
  },
  "language_info": {
   "codemirror_mode": {
    "name": "ipython",
    "version": 3
   },
   "file_extension": ".py",
   "mimetype": "text/x-python",
   "name": "python",
   "nbconvert_exporter": "python",
   "pygments_lexer": "ipython3",
   "version": "3.9.13"
  }
 },
 "nbformat": 4,
 "nbformat_minor": 2
}

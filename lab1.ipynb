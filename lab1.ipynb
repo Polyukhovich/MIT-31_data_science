{
 "cells": [
  {
   "cell_type": "markdown",
   "metadata": {},
   "source": [
    " ЛАБОРАТОРНА РОБОТА 1\n",
    "\n",
    "Jupyter Notebook — це інтерактивне середовище для написання та виконання коду, яке широко використовується в науці про дані, машинному навчанні, обчислювальній математиці, аналізі даних та інших сферах, де необхідна інтерактивність і візуалізація результатів.\n",
    "\n",
    "Основні призначення Jupyter Notebook:\n",
    "\n",
    "Інтерактивне виконання коду: Jupyter Notebook дозволяє запускати фрагменти коду (які називаються \"комірками\") окремо, отримувати негайний результат і в разі потреби змінювати та перезапускати тільки частини коду.\n",
    "\n",
    "Підтримка кількох мов програмування: Хоча Jupyter Notebook найчастіше використовується з Python, він підтримує й інші мови програмування (через \"ядра\"), такі як R, Julia, Ruby, та багато інших.\n",
    "\n",
    "Візуалізація даних: Зручне середовище для візуалізації даних за допомогою графіків, діаграм та інтерактивних елементів. Інструменти, такі як Matplotlib, Seaborn, Plotly, Bokeh, можуть використовуватися безпосередньо в ноутбуках для створення наочного аналізу.\n",
    "\n",
    "Документація та нотатки: Підтримка форматування тексту за допомогою Markdown дозволяє додавати коментарі, пояснення, формули та зображення прямо в коді. Це робить Jupyter Notebook чудовим інструментом для створення інтерактивної документації або навчальних матеріалів."
   ]
  },
  {
   "cell_type": "code",
   "execution_count": 8,
   "metadata": {},
   "outputs": [
    {
     "name": "stdout",
     "output_type": "stream",
     "text": [
      "Hello, Andriy!\n"
     ]
    }
   ],
   "source": [
    "name = input(\"say your name: \")\n",
    "print(f\"Hello, {name}!\")"
   ]
  },
  {
   "cell_type": "code",
   "execution_count": 7,
   "metadata": {},
   "outputs": [
    {
     "name": "stdout",
     "output_type": "stream",
     "text": [
      "The array of random numbers: [0.42728572 0.67986726 0.84640857 0.59500176 0.83235564 0.66638486\n",
      " 0.12512315 0.73560963 0.52423324 0.27774594]\n",
      "The mean value of the array: 0.5710015765128041\n"
     ]
    }
   ],
   "source": [
    "import numpy as np\n",
    "\n",
    "random_numbers = np.random.rand(10)\n",
    "mean_value = np.mean(random_numbers)\n",
    "\n",
    "print(f\"The array of random numbers: {random_numbers}\")\n",
    "print(f\"The mean value of the array: {mean_value}\")"
   ]
  }
 ],
 "metadata": {
  "kernelspec": {
   "display_name": "Python 3",
   "language": "python",
   "name": "python3"
  },
  "language_info": {
   "codemirror_mode": {
    "name": "ipython",
    "version": 3
   },
   "file_extension": ".py",
   "mimetype": "text/x-python",
   "name": "python",
   "nbconvert_exporter": "python",
   "pygments_lexer": "ipython3",
   "version": "3.9.13"
  }
 },
 "nbformat": 4,
 "nbformat_minor": 2
}
